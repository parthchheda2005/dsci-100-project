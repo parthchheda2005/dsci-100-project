{
 "cells": [
  {
   "cell_type": "code",
   "execution_count": 1,
   "id": "11e6b28c-7c38-410a-9903-8ac3e21bda41",
   "metadata": {},
   "outputs": [
    {
     "name": "stderr",
     "output_type": "stream",
     "text": [
      "── \u001b[1mAttaching core tidyverse packages\u001b[22m ──────────────────────── tidyverse 2.0.0 ──\n",
      "\u001b[32m✔\u001b[39m \u001b[34mdplyr    \u001b[39m 1.1.3     \u001b[32m✔\u001b[39m \u001b[34mreadr    \u001b[39m 2.1.4\n",
      "\u001b[32m✔\u001b[39m \u001b[34mforcats  \u001b[39m 1.0.0     \u001b[32m✔\u001b[39m \u001b[34mstringr  \u001b[39m 1.5.0\n",
      "\u001b[32m✔\u001b[39m \u001b[34mggplot2  \u001b[39m 3.4.4     \u001b[32m✔\u001b[39m \u001b[34mtibble   \u001b[39m 3.2.1\n",
      "\u001b[32m✔\u001b[39m \u001b[34mlubridate\u001b[39m 1.9.3     \u001b[32m✔\u001b[39m \u001b[34mtidyr    \u001b[39m 1.3.0\n",
      "\u001b[32m✔\u001b[39m \u001b[34mpurrr    \u001b[39m 1.0.2     \n",
      "── \u001b[1mConflicts\u001b[22m ────────────────────────────────────────── tidyverse_conflicts() ──\n",
      "\u001b[31m✖\u001b[39m \u001b[34mdplyr\u001b[39m::\u001b[32mfilter()\u001b[39m masks \u001b[34mstats\u001b[39m::filter()\n",
      "\u001b[31m✖\u001b[39m \u001b[34mdplyr\u001b[39m::\u001b[32mlag()\u001b[39m    masks \u001b[34mstats\u001b[39m::lag()\n",
      "\u001b[36mℹ\u001b[39m Use the conflicted package (\u001b[3m\u001b[34m<http://conflicted.r-lib.org/>\u001b[39m\u001b[23m) to force all conflicts to become errors\n",
      "── \u001b[1mAttaching packages\u001b[22m ────────────────────────────────────── tidymodels 1.1.1 ──\n",
      "\n",
      "\u001b[32m✔\u001b[39m \u001b[34mbroom       \u001b[39m 1.0.5     \u001b[32m✔\u001b[39m \u001b[34mrsample     \u001b[39m 1.2.0\n",
      "\u001b[32m✔\u001b[39m \u001b[34mdials       \u001b[39m 1.2.0     \u001b[32m✔\u001b[39m \u001b[34mtune        \u001b[39m 1.1.2\n",
      "\u001b[32m✔\u001b[39m \u001b[34minfer       \u001b[39m 1.0.5     \u001b[32m✔\u001b[39m \u001b[34mworkflows   \u001b[39m 1.1.3\n",
      "\u001b[32m✔\u001b[39m \u001b[34mmodeldata   \u001b[39m 1.2.0     \u001b[32m✔\u001b[39m \u001b[34mworkflowsets\u001b[39m 1.0.1\n",
      "\u001b[32m✔\u001b[39m \u001b[34mparsnip     \u001b[39m 1.1.1     \u001b[32m✔\u001b[39m \u001b[34myardstick   \u001b[39m 1.2.0\n",
      "\u001b[32m✔\u001b[39m \u001b[34mrecipes     \u001b[39m 1.0.8     \n",
      "\n",
      "── \u001b[1mConflicts\u001b[22m ───────────────────────────────────────── tidymodels_conflicts() ──\n",
      "\u001b[31m✖\u001b[39m \u001b[34mscales\u001b[39m::\u001b[32mdiscard()\u001b[39m masks \u001b[34mpurrr\u001b[39m::discard()\n",
      "\u001b[31m✖\u001b[39m \u001b[34mdplyr\u001b[39m::\u001b[32mfilter()\u001b[39m   masks \u001b[34mstats\u001b[39m::filter()\n",
      "\u001b[31m✖\u001b[39m \u001b[34mrecipes\u001b[39m::\u001b[32mfixed()\u001b[39m  masks \u001b[34mstringr\u001b[39m::fixed()\n",
      "\u001b[31m✖\u001b[39m \u001b[34mdplyr\u001b[39m::\u001b[32mlag()\u001b[39m      masks \u001b[34mstats\u001b[39m::lag()\n",
      "\u001b[31m✖\u001b[39m \u001b[34myardstick\u001b[39m::\u001b[32mspec()\u001b[39m masks \u001b[34mreadr\u001b[39m::spec()\n",
      "\u001b[31m✖\u001b[39m \u001b[34mrecipes\u001b[39m::\u001b[32mstep()\u001b[39m   masks \u001b[34mstats\u001b[39m::step()\n",
      "\u001b[34m•\u001b[39m Use suppressPackageStartupMessages() to eliminate package startup messages\n",
      "\n"
     ]
    }
   ],
   "source": [
    "library(tidyverse)\n",
    "library(repr)\n",
    "library(tidymodels)\n",
    "options(repr.matrix.max.rows = 6)"
   ]
  },
  {
   "cell_type": "code",
   "execution_count": 2,
   "id": "adcc4dcc-8b96-4826-89dc-ba4df4067c02",
   "metadata": {},
   "outputs": [
    {
     "name": "stderr",
     "output_type": "stream",
     "text": [
      "\u001b[1m\u001b[22mNew names:\n",
      "\u001b[36m•\u001b[39m `1.0` -> `1.0...2`\n",
      "\u001b[36m•\u001b[39m `1.0` -> `1.0...3`\n",
      "\u001b[36m•\u001b[39m `1.0` -> `1.0...6`\n",
      "\u001b[36m•\u001b[39m `0.0` -> `0.0...9`\n",
      "\u001b[36m•\u001b[39m `0.0` -> `0.0...12`\n",
      "\u001b[1mRows: \u001b[22m\u001b[34m302\u001b[39m \u001b[1mColumns: \u001b[22m\u001b[34m14\u001b[39m\n",
      "\u001b[36m──\u001b[39m \u001b[1mColumn specification\u001b[22m \u001b[36m────────────────────────────────────────────────────────\u001b[39m\n",
      "\u001b[1mDelimiter:\u001b[22m \",\"\n",
      "\u001b[31mchr\u001b[39m  (2): 0.0...12, 6.0\n",
      "\u001b[32mdbl\u001b[39m (12): 63.0, 1.0...2, 1.0...3, 145.0, 233.0, 1.0...6, 2.0, 150.0, 0.0...9...\n",
      "\n",
      "\u001b[36mℹ\u001b[39m Use `spec()` to retrieve the full column specification for this data.\n",
      "\u001b[36mℹ\u001b[39m Specify the column types or set `show_col_types = FALSE` to quiet this message.\n"
     ]
    },
    {
     "data": {
      "text/html": [
       "<table class=\"dataframe\">\n",
       "<caption>A spec_tbl_df: 302 × 14</caption>\n",
       "<thead>\n",
       "\t<tr><th scope=col>age</th><th scope=col>sex</th><th scope=col>cp</th><th scope=col>trestbps</th><th scope=col>chol</th><th scope=col>fbs</th><th scope=col>restecg</th><th scope=col>thalach</th><th scope=col>exang</th><th scope=col>oldpeak</th><th scope=col>slope</th><th scope=col>ca</th><th scope=col>thal</th><th scope=col>num</th></tr>\n",
       "\t<tr><th scope=col>&lt;dbl&gt;</th><th scope=col>&lt;dbl&gt;</th><th scope=col>&lt;dbl&gt;</th><th scope=col>&lt;dbl&gt;</th><th scope=col>&lt;dbl&gt;</th><th scope=col>&lt;dbl&gt;</th><th scope=col>&lt;dbl&gt;</th><th scope=col>&lt;dbl&gt;</th><th scope=col>&lt;dbl&gt;</th><th scope=col>&lt;dbl&gt;</th><th scope=col>&lt;dbl&gt;</th><th scope=col>&lt;chr&gt;</th><th scope=col>&lt;chr&gt;</th><th scope=col>&lt;dbl&gt;</th></tr>\n",
       "</thead>\n",
       "<tbody>\n",
       "\t<tr><td>67</td><td>1</td><td>4</td><td>160</td><td>286</td><td>0</td><td>2</td><td>108</td><td>1</td><td>1.5</td><td>2</td><td>3.0</td><td>3.0</td><td>2</td></tr>\n",
       "\t<tr><td>67</td><td>1</td><td>4</td><td>120</td><td>229</td><td>0</td><td>2</td><td>129</td><td>1</td><td>2.6</td><td>2</td><td>2.0</td><td>7.0</td><td>1</td></tr>\n",
       "\t<tr><td>37</td><td>1</td><td>3</td><td>130</td><td>250</td><td>0</td><td>0</td><td>187</td><td>0</td><td>3.5</td><td>3</td><td>0.0</td><td>3.0</td><td>0</td></tr>\n",
       "\t<tr><td>⋮</td><td>⋮</td><td>⋮</td><td>⋮</td><td>⋮</td><td>⋮</td><td>⋮</td><td>⋮</td><td>⋮</td><td>⋮</td><td>⋮</td><td>⋮</td><td>⋮</td><td>⋮</td></tr>\n",
       "\t<tr><td>57</td><td>1</td><td>4</td><td>130</td><td>131</td><td>0</td><td>0</td><td>115</td><td>1</td><td>1.2</td><td>2</td><td>1.0</td><td>7.0</td><td>3</td></tr>\n",
       "\t<tr><td>57</td><td>0</td><td>2</td><td>130</td><td>236</td><td>0</td><td>2</td><td>174</td><td>0</td><td>0.0</td><td>2</td><td>1.0</td><td>3.0</td><td>1</td></tr>\n",
       "\t<tr><td>38</td><td>1</td><td>3</td><td>138</td><td>175</td><td>0</td><td>0</td><td>173</td><td>0</td><td>0.0</td><td>1</td><td>?  </td><td>3.0</td><td>0</td></tr>\n",
       "</tbody>\n",
       "</table>\n"
      ],
      "text/latex": [
       "A spec\\_tbl\\_df: 302 × 14\n",
       "\\begin{tabular}{llllllllllllll}\n",
       " age & sex & cp & trestbps & chol & fbs & restecg & thalach & exang & oldpeak & slope & ca & thal & num\\\\\n",
       " <dbl> & <dbl> & <dbl> & <dbl> & <dbl> & <dbl> & <dbl> & <dbl> & <dbl> & <dbl> & <dbl> & <chr> & <chr> & <dbl>\\\\\n",
       "\\hline\n",
       "\t 67 & 1 & 4 & 160 & 286 & 0 & 2 & 108 & 1 & 1.5 & 2 & 3.0 & 3.0 & 2\\\\\n",
       "\t 67 & 1 & 4 & 120 & 229 & 0 & 2 & 129 & 1 & 2.6 & 2 & 2.0 & 7.0 & 1\\\\\n",
       "\t 37 & 1 & 3 & 130 & 250 & 0 & 0 & 187 & 0 & 3.5 & 3 & 0.0 & 3.0 & 0\\\\\n",
       "\t ⋮ & ⋮ & ⋮ & ⋮ & ⋮ & ⋮ & ⋮ & ⋮ & ⋮ & ⋮ & ⋮ & ⋮ & ⋮ & ⋮\\\\\n",
       "\t 57 & 1 & 4 & 130 & 131 & 0 & 0 & 115 & 1 & 1.2 & 2 & 1.0 & 7.0 & 3\\\\\n",
       "\t 57 & 0 & 2 & 130 & 236 & 0 & 2 & 174 & 0 & 0.0 & 2 & 1.0 & 3.0 & 1\\\\\n",
       "\t 38 & 1 & 3 & 138 & 175 & 0 & 0 & 173 & 0 & 0.0 & 1 & ?   & 3.0 & 0\\\\\n",
       "\\end{tabular}\n"
      ],
      "text/markdown": [
       "\n",
       "A spec_tbl_df: 302 × 14\n",
       "\n",
       "| age &lt;dbl&gt; | sex &lt;dbl&gt; | cp &lt;dbl&gt; | trestbps &lt;dbl&gt; | chol &lt;dbl&gt; | fbs &lt;dbl&gt; | restecg &lt;dbl&gt; | thalach &lt;dbl&gt; | exang &lt;dbl&gt; | oldpeak &lt;dbl&gt; | slope &lt;dbl&gt; | ca &lt;chr&gt; | thal &lt;chr&gt; | num &lt;dbl&gt; |\n",
       "|---|---|---|---|---|---|---|---|---|---|---|---|---|---|\n",
       "| 67 | 1 | 4 | 160 | 286 | 0 | 2 | 108 | 1 | 1.5 | 2 | 3.0 | 3.0 | 2 |\n",
       "| 67 | 1 | 4 | 120 | 229 | 0 | 2 | 129 | 1 | 2.6 | 2 | 2.0 | 7.0 | 1 |\n",
       "| 37 | 1 | 3 | 130 | 250 | 0 | 0 | 187 | 0 | 3.5 | 3 | 0.0 | 3.0 | 0 |\n",
       "| ⋮ | ⋮ | ⋮ | ⋮ | ⋮ | ⋮ | ⋮ | ⋮ | ⋮ | ⋮ | ⋮ | ⋮ | ⋮ | ⋮ |\n",
       "| 57 | 1 | 4 | 130 | 131 | 0 | 0 | 115 | 1 | 1.2 | 2 | 1.0 | 7.0 | 3 |\n",
       "| 57 | 0 | 2 | 130 | 236 | 0 | 2 | 174 | 0 | 0.0 | 2 | 1.0 | 3.0 | 1 |\n",
       "| 38 | 1 | 3 | 138 | 175 | 0 | 0 | 173 | 0 | 0.0 | 1 | ?   | 3.0 | 0 |\n",
       "\n"
      ],
      "text/plain": [
       "    age sex cp trestbps chol fbs restecg thalach exang oldpeak slope ca  thal\n",
       "1   67  1   4  160      286  0   2       108     1     1.5     2     3.0 3.0 \n",
       "2   67  1   4  120      229  0   2       129     1     2.6     2     2.0 7.0 \n",
       "3   37  1   3  130      250  0   0       187     0     3.5     3     0.0 3.0 \n",
       "⋮   ⋮   ⋮   ⋮  ⋮        ⋮    ⋮   ⋮       ⋮       ⋮     ⋮       ⋮     ⋮   ⋮   \n",
       "300 57  1   4  130      131  0   0       115     1     1.2     2     1.0 7.0 \n",
       "301 57  0   2  130      236  0   2       174     0     0.0     2     1.0 3.0 \n",
       "302 38  1   3  138      175  0   0       173     0     0.0     1     ?   3.0 \n",
       "    num\n",
       "1   2  \n",
       "2   1  \n",
       "3   0  \n",
       "⋮   ⋮  \n",
       "300 3  \n",
       "301 1  \n",
       "302 0  "
      ]
     },
     "metadata": {},
     "output_type": "display_data"
    }
   ],
   "source": [
    "main_table <- read_csv(\"data/processed.cleveland.data\")\n",
    "x <- c(\"age\", \"sex\", \"cp\", \"trestbps\", \"chol\", \"fbs\", \"restecg\", \"thalach\", \"exang\", \"oldpeak\", \"slope\", \"ca\", \"thal\", \"num\")\n",
    "colnames(main_table) <- x\n",
    "main_table"
   ]
  },
  {
   "cell_type": "code",
   "execution_count": 3,
   "id": "b787235e-b351-4a96-b817-6ff29d0dcbe5",
   "metadata": {},
   "outputs": [
    {
     "data": {
      "text/html": [
       "<table class=\"dataframe\">\n",
       "<caption>A tibble: 302 × 14</caption>\n",
       "<thead>\n",
       "\t<tr><th scope=col>age</th><th scope=col>sex</th><th scope=col>cp</th><th scope=col>trestbps</th><th scope=col>chol</th><th scope=col>fbs</th><th scope=col>restecg</th><th scope=col>thalach</th><th scope=col>exang</th><th scope=col>oldpeak</th><th scope=col>slope</th><th scope=col>ca</th><th scope=col>thal</th><th scope=col>num</th></tr>\n",
       "\t<tr><th scope=col>&lt;dbl&gt;</th><th scope=col>&lt;dbl&gt;</th><th scope=col>&lt;dbl&gt;</th><th scope=col>&lt;dbl&gt;</th><th scope=col>&lt;dbl&gt;</th><th scope=col>&lt;dbl&gt;</th><th scope=col>&lt;dbl&gt;</th><th scope=col>&lt;dbl&gt;</th><th scope=col>&lt;dbl&gt;</th><th scope=col>&lt;dbl&gt;</th><th scope=col>&lt;dbl&gt;</th><th scope=col>&lt;chr&gt;</th><th scope=col>&lt;chr&gt;</th><th scope=col>&lt;fct&gt;</th></tr>\n",
       "</thead>\n",
       "<tbody>\n",
       "\t<tr><td>67</td><td>1</td><td>4</td><td>160</td><td>286</td><td>0</td><td>2</td><td>108</td><td>1</td><td>1.5</td><td>2</td><td>3.0</td><td>3.0</td><td>negative</td></tr>\n",
       "\t<tr><td>67</td><td>1</td><td>4</td><td>120</td><td>229</td><td>0</td><td>2</td><td>129</td><td>1</td><td>2.6</td><td>2</td><td>2.0</td><td>7.0</td><td>negative</td></tr>\n",
       "\t<tr><td>37</td><td>1</td><td>3</td><td>130</td><td>250</td><td>0</td><td>0</td><td>187</td><td>0</td><td>3.5</td><td>3</td><td>0.0</td><td>3.0</td><td>positive</td></tr>\n",
       "\t<tr><td>⋮</td><td>⋮</td><td>⋮</td><td>⋮</td><td>⋮</td><td>⋮</td><td>⋮</td><td>⋮</td><td>⋮</td><td>⋮</td><td>⋮</td><td>⋮</td><td>⋮</td><td>⋮</td></tr>\n",
       "\t<tr><td>57</td><td>1</td><td>4</td><td>130</td><td>131</td><td>0</td><td>0</td><td>115</td><td>1</td><td>1.2</td><td>2</td><td>1.0</td><td>7.0</td><td>negative</td></tr>\n",
       "\t<tr><td>57</td><td>0</td><td>2</td><td>130</td><td>236</td><td>0</td><td>2</td><td>174</td><td>0</td><td>0.0</td><td>2</td><td>1.0</td><td>3.0</td><td>negative</td></tr>\n",
       "\t<tr><td>38</td><td>1</td><td>3</td><td>138</td><td>175</td><td>0</td><td>0</td><td>173</td><td>0</td><td>0.0</td><td>1</td><td>?  </td><td>3.0</td><td>positive</td></tr>\n",
       "</tbody>\n",
       "</table>\n"
      ],
      "text/latex": [
       "A tibble: 302 × 14\n",
       "\\begin{tabular}{llllllllllllll}\n",
       " age & sex & cp & trestbps & chol & fbs & restecg & thalach & exang & oldpeak & slope & ca & thal & num\\\\\n",
       " <dbl> & <dbl> & <dbl> & <dbl> & <dbl> & <dbl> & <dbl> & <dbl> & <dbl> & <dbl> & <dbl> & <chr> & <chr> & <fct>\\\\\n",
       "\\hline\n",
       "\t 67 & 1 & 4 & 160 & 286 & 0 & 2 & 108 & 1 & 1.5 & 2 & 3.0 & 3.0 & negative\\\\\n",
       "\t 67 & 1 & 4 & 120 & 229 & 0 & 2 & 129 & 1 & 2.6 & 2 & 2.0 & 7.0 & negative\\\\\n",
       "\t 37 & 1 & 3 & 130 & 250 & 0 & 0 & 187 & 0 & 3.5 & 3 & 0.0 & 3.0 & positive\\\\\n",
       "\t ⋮ & ⋮ & ⋮ & ⋮ & ⋮ & ⋮ & ⋮ & ⋮ & ⋮ & ⋮ & ⋮ & ⋮ & ⋮ & ⋮\\\\\n",
       "\t 57 & 1 & 4 & 130 & 131 & 0 & 0 & 115 & 1 & 1.2 & 2 & 1.0 & 7.0 & negative\\\\\n",
       "\t 57 & 0 & 2 & 130 & 236 & 0 & 2 & 174 & 0 & 0.0 & 2 & 1.0 & 3.0 & negative\\\\\n",
       "\t 38 & 1 & 3 & 138 & 175 & 0 & 0 & 173 & 0 & 0.0 & 1 & ?   & 3.0 & positive\\\\\n",
       "\\end{tabular}\n"
      ],
      "text/markdown": [
       "\n",
       "A tibble: 302 × 14\n",
       "\n",
       "| age &lt;dbl&gt; | sex &lt;dbl&gt; | cp &lt;dbl&gt; | trestbps &lt;dbl&gt; | chol &lt;dbl&gt; | fbs &lt;dbl&gt; | restecg &lt;dbl&gt; | thalach &lt;dbl&gt; | exang &lt;dbl&gt; | oldpeak &lt;dbl&gt; | slope &lt;dbl&gt; | ca &lt;chr&gt; | thal &lt;chr&gt; | num &lt;fct&gt; |\n",
       "|---|---|---|---|---|---|---|---|---|---|---|---|---|---|\n",
       "| 67 | 1 | 4 | 160 | 286 | 0 | 2 | 108 | 1 | 1.5 | 2 | 3.0 | 3.0 | negative |\n",
       "| 67 | 1 | 4 | 120 | 229 | 0 | 2 | 129 | 1 | 2.6 | 2 | 2.0 | 7.0 | negative |\n",
       "| 37 | 1 | 3 | 130 | 250 | 0 | 0 | 187 | 0 | 3.5 | 3 | 0.0 | 3.0 | positive |\n",
       "| ⋮ | ⋮ | ⋮ | ⋮ | ⋮ | ⋮ | ⋮ | ⋮ | ⋮ | ⋮ | ⋮ | ⋮ | ⋮ | ⋮ |\n",
       "| 57 | 1 | 4 | 130 | 131 | 0 | 0 | 115 | 1 | 1.2 | 2 | 1.0 | 7.0 | negative |\n",
       "| 57 | 0 | 2 | 130 | 236 | 0 | 2 | 174 | 0 | 0.0 | 2 | 1.0 | 3.0 | negative |\n",
       "| 38 | 1 | 3 | 138 | 175 | 0 | 0 | 173 | 0 | 0.0 | 1 | ?   | 3.0 | positive |\n",
       "\n"
      ],
      "text/plain": [
       "    age sex cp trestbps chol fbs restecg thalach exang oldpeak slope ca  thal\n",
       "1   67  1   4  160      286  0   2       108     1     1.5     2     3.0 3.0 \n",
       "2   67  1   4  120      229  0   2       129     1     2.6     2     2.0 7.0 \n",
       "3   37  1   3  130      250  0   0       187     0     3.5     3     0.0 3.0 \n",
       "⋮   ⋮   ⋮   ⋮  ⋮        ⋮    ⋮   ⋮       ⋮       ⋮     ⋮       ⋮     ⋮   ⋮   \n",
       "300 57  1   4  130      131  0   0       115     1     1.2     2     1.0 7.0 \n",
       "301 57  0   2  130      236  0   2       174     0     0.0     2     1.0 3.0 \n",
       "302 38  1   3  138      175  0   0       173     0     0.0     1     ?   3.0 \n",
       "    num     \n",
       "1   negative\n",
       "2   negative\n",
       "3   positive\n",
       "⋮   ⋮       \n",
       "300 negative\n",
       "301 negative\n",
       "302 positive"
      ]
     },
     "metadata": {},
     "output_type": "display_data"
    },
    {
     "data": {
      "text/html": [
       "<table class=\"dataframe\">\n",
       "<caption>A tibble: 2 × 2</caption>\n",
       "<thead>\n",
       "\t<tr><th scope=col>num</th><th scope=col>sample</th></tr>\n",
       "\t<tr><th scope=col>&lt;fct&gt;</th><th scope=col>&lt;int&gt;</th></tr>\n",
       "</thead>\n",
       "<tbody>\n",
       "\t<tr><td>positive</td><td>163</td></tr>\n",
       "\t<tr><td>negative</td><td>139</td></tr>\n",
       "</tbody>\n",
       "</table>\n"
      ],
      "text/latex": [
       "A tibble: 2 × 2\n",
       "\\begin{tabular}{ll}\n",
       " num & sample\\\\\n",
       " <fct> & <int>\\\\\n",
       "\\hline\n",
       "\t positive & 163\\\\\n",
       "\t negative & 139\\\\\n",
       "\\end{tabular}\n"
      ],
      "text/markdown": [
       "\n",
       "A tibble: 2 × 2\n",
       "\n",
       "| num &lt;fct&gt; | sample &lt;int&gt; |\n",
       "|---|---|\n",
       "| positive | 163 |\n",
       "| negative | 139 |\n",
       "\n"
      ],
      "text/plain": [
       "  num      sample\n",
       "1 positive 163   \n",
       "2 negative 139   "
      ]
     },
     "metadata": {},
     "output_type": "display_data"
    },
    {
     "data": {
      "text/html": [
       "<table class=\"dataframe\">\n",
       "<caption>A tibble: 302 × 4</caption>\n",
       "<thead>\n",
       "\t<tr><th scope=col>age</th><th scope=col>trestbps</th><th scope=col>chol</th><th scope=col>num</th></tr>\n",
       "\t<tr><th scope=col>&lt;dbl&gt;</th><th scope=col>&lt;dbl&gt;</th><th scope=col>&lt;dbl&gt;</th><th scope=col>&lt;fct&gt;</th></tr>\n",
       "</thead>\n",
       "<tbody>\n",
       "\t<tr><td>67</td><td>160</td><td>286</td><td>negative</td></tr>\n",
       "\t<tr><td>67</td><td>120</td><td>229</td><td>negative</td></tr>\n",
       "\t<tr><td>37</td><td>130</td><td>250</td><td>positive</td></tr>\n",
       "\t<tr><td>⋮</td><td>⋮</td><td>⋮</td><td>⋮</td></tr>\n",
       "\t<tr><td>57</td><td>130</td><td>131</td><td>negative</td></tr>\n",
       "\t<tr><td>57</td><td>130</td><td>236</td><td>negative</td></tr>\n",
       "\t<tr><td>38</td><td>138</td><td>175</td><td>positive</td></tr>\n",
       "</tbody>\n",
       "</table>\n"
      ],
      "text/latex": [
       "A tibble: 302 × 4\n",
       "\\begin{tabular}{llll}\n",
       " age & trestbps & chol & num\\\\\n",
       " <dbl> & <dbl> & <dbl> & <fct>\\\\\n",
       "\\hline\n",
       "\t 67 & 160 & 286 & negative\\\\\n",
       "\t 67 & 120 & 229 & negative\\\\\n",
       "\t 37 & 130 & 250 & positive\\\\\n",
       "\t ⋮ & ⋮ & ⋮ & ⋮\\\\\n",
       "\t 57 & 130 & 131 & negative\\\\\n",
       "\t 57 & 130 & 236 & negative\\\\\n",
       "\t 38 & 138 & 175 & positive\\\\\n",
       "\\end{tabular}\n"
      ],
      "text/markdown": [
       "\n",
       "A tibble: 302 × 4\n",
       "\n",
       "| age &lt;dbl&gt; | trestbps &lt;dbl&gt; | chol &lt;dbl&gt; | num &lt;fct&gt; |\n",
       "|---|---|---|---|\n",
       "| 67 | 160 | 286 | negative |\n",
       "| 67 | 120 | 229 | negative |\n",
       "| 37 | 130 | 250 | positive |\n",
       "| ⋮ | ⋮ | ⋮ | ⋮ |\n",
       "| 57 | 130 | 131 | negative |\n",
       "| 57 | 130 | 236 | negative |\n",
       "| 38 | 138 | 175 | positive |\n",
       "\n"
      ],
      "text/plain": [
       "    age trestbps chol num     \n",
       "1   67  160      286  negative\n",
       "2   67  120      229  negative\n",
       "3   37  130      250  positive\n",
       "⋮   ⋮   ⋮        ⋮    ⋮       \n",
       "300 57  130      131  negative\n",
       "301 57  130      236  negative\n",
       "302 38  138      175  positive"
      ]
     },
     "metadata": {},
     "output_type": "display_data"
    }
   ],
   "source": [
    "main_table <- main_table |>\n",
    "              mutate(num = as_factor(num)) |>\n",
    "              mutate(num = fct_recode(num, \"positive\" = \"0\" , \"negative\" = \"1\", \"negative\" = \"2\", \"negative\" = \"3\", \"negative\" = \"4\"))\n",
    "main_table\n",
    "\n",
    "rows <- main_table |> \n",
    "        group_by(num) |>\n",
    "        summarize(sample = n())\n",
    "rows\n",
    "\n",
    "main_table <- main_table |>\n",
    "              select(age, trestbps, chol, num)\n",
    "main_table"
   ]
  },
  {
   "cell_type": "code",
   "execution_count": null,
   "id": "d9de2982-d4eb-4a82-9ca2-00366799860a",
   "metadata": {},
   "outputs": [],
   "source": [
    "knn_tune <- nearest_neighbor(weight_func = \"rectangular\", neighbors = tune()) |>\n",
    "            set_engine(\"kknn\") |>\n",
    "            set_mode(\"classification\")\n",
    "\n",
    "heart_split <- initial_split(fruit_data, prop = 0.75, strata = fruit_name)  \n",
    "heart_train <- training(fruit_split)   \n",
    "haert_test  <- testing(fruit_split)"
   ]
  },
  {
   "cell_type": "code",
   "execution_count": null,
   "id": "4e31353a-3280-4787-8cc1-77726c35eb69",
   "metadata": {},
   "outputs": [],
   "source": []
  }
 ],
 "metadata": {
  "kernelspec": {
   "display_name": "R",
   "language": "R",
   "name": "ir"
  },
  "language_info": {
   "codemirror_mode": "r",
   "file_extension": ".r",
   "mimetype": "text/x-r-source",
   "name": "R",
   "pygments_lexer": "r",
   "version": "4.3.1"
  }
 },
 "nbformat": 4,
 "nbformat_minor": 5
}
